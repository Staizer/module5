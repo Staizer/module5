{
 "cells": [
  {
   "cell_type": "markdown",
   "id": "649b8a9c",
   "metadata": {},
   "source": [
    "Program designed to import cars dataset downloaded from Kaggle and prepare it for implementation in Deep Learning algorithm."
   ]
  },
  {
   "cell_type": "markdown",
   "id": "2fb9a1fd",
   "metadata": {},
   "source": [
    "Import pandas and sklearn LabelEncoder"
   ]
  },
  {
   "cell_type": "code",
   "execution_count": 1,
   "id": "e3b66453",
   "metadata": {},
   "outputs": [],
   "source": [
    "import pandas as pd\n",
    "from sklearn.preprocessing import LabelEncoder"
   ]
  },
  {
   "cell_type": "markdown",
   "id": "057eba79",
   "metadata": {},
   "source": [
    "Import the dataset"
   ]
  },
  {
   "cell_type": "code",
   "execution_count": 2,
   "id": "33384219",
   "metadata": {},
   "outputs": [],
   "source": [
    "cars = pd.read_csv('cars.csv')"
   ]
  },
  {
   "cell_type": "markdown",
   "id": "872a4682",
   "metadata": {},
   "source": [
    "Get headers for convenience"
   ]
  },
  {
   "cell_type": "code",
   "execution_count": 3,
   "id": "451b2e57",
   "metadata": {},
   "outputs": [],
   "source": [
    "headers = list(cars.columns)"
   ]
  },
  {
   "cell_type": "markdown",
   "id": "79dab6ee",
   "metadata": {},
   "source": [
    "Test print dataset"
   ]
  },
  {
   "cell_type": "code",
   "execution_count": 4,
   "id": "00147fc6",
   "metadata": {},
   "outputs": [
    {
     "name": "stdout",
     "output_type": "stream",
     "text": [
      "      manufacturer_name  model_name transmission   color  odometer_value  \\\n",
      "0                Subaru     Outback    automatic  silver          190000   \n",
      "1                Subaru     Outback    automatic    blue          290000   \n",
      "2                Subaru    Forester    automatic     red          402000   \n",
      "3                Subaru     Impreza   mechanical    blue           10000   \n",
      "4                Subaru      Legacy    automatic   black          280000   \n",
      "...                 ...         ...          ...     ...             ...   \n",
      "38526          Chrysler         300    automatic  silver          290000   \n",
      "38527          Chrysler  PT Cruiser   mechanical    blue          321000   \n",
      "38528          Chrysler         300    automatic    blue          777957   \n",
      "38529          Chrysler  PT Cruiser   mechanical   black           20000   \n",
      "38530          Chrysler     Voyager    automatic  silver          297729   \n",
      "\n",
      "       year_produced engine_fuel  engine_has_gas engine_type  engine_capacity  \\\n",
      "0               2010    gasoline           False    gasoline              2.5   \n",
      "1               2002    gasoline           False    gasoline              3.0   \n",
      "2               2001    gasoline           False    gasoline              2.5   \n",
      "3               1999    gasoline           False    gasoline              3.0   \n",
      "4               2001    gasoline           False    gasoline              2.5   \n",
      "...              ...         ...             ...         ...              ...   \n",
      "38526           2000    gasoline           False    gasoline              3.5   \n",
      "38527           2004      diesel           False      diesel              2.2   \n",
      "38528           2000    gasoline           False    gasoline              3.5   \n",
      "38529           2001    gasoline           False    gasoline              2.0   \n",
      "38530           2000    gasoline           False    gasoline              2.4   \n",
      "\n",
      "       ... feature_1  feature_2 feature_3 feature_4  feature_5  feature_6  \\\n",
      "0      ...      True       True      True     False       True      False   \n",
      "1      ...      True      False     False      True       True      False   \n",
      "2      ...      True      False     False     False      False      False   \n",
      "3      ...     False      False     False     False      False      False   \n",
      "4      ...      True      False      True      True      False      False   \n",
      "...    ...       ...        ...       ...       ...        ...        ...   \n",
      "38526  ...      True      False     False      True       True      False   \n",
      "38527  ...      True      False     False      True       True      False   \n",
      "38528  ...      True      False     False      True       True      False   \n",
      "38529  ...      True      False     False     False      False      False   \n",
      "38530  ...     False      False     False     False      False      False   \n",
      "\n",
      "      feature_7  feature_8  feature_9  duration_listed  \n",
      "0          True       True       True               16  \n",
      "1         False      False       True               83  \n",
      "2         False       True       True              151  \n",
      "3         False      False      False               86  \n",
      "4         False      False       True                7  \n",
      "...         ...        ...        ...              ...  \n",
      "38526     False       True       True              301  \n",
      "38527     False       True       True              317  \n",
      "38528     False       True       True              369  \n",
      "38529     False      False       True              490  \n",
      "38530     False      False       True              632  \n",
      "\n",
      "[38531 rows x 30 columns]\n"
     ]
    }
   ],
   "source": [
    "print(cars)"
   ]
  },
  {
   "cell_type": "markdown",
   "id": "7eee10d4",
   "metadata": {},
   "source": [
    "For each column, the columns 4, 5, 9, 14, 17, 18, and 29 have numerical values, so skip those, all other columns are categorical, so assign a number to the categorical data"
   ]
  },
  {
   "cell_type": "code",
   "execution_count": 5,
   "id": "7b244271",
   "metadata": {},
   "outputs": [],
   "source": [
    "number = LabelEncoder()\n",
    "\n",
    "for i, heading in enumerate(list(cars.columns)):\n",
    "  if i == 4 or i == 5 or i == 9 or i == 14 or i == 17 or i == 18 or i == 29:\n",
    "    continue\n",
    "  else:\n",
    "    cars[heading] = number.fit_transform(\n",
    "      cars[heading].astype('str'))"
   ]
  },
  {
   "cell_type": "markdown",
   "id": "c3603115",
   "metadata": {},
   "source": [
    "Print preprocessed dataset"
   ]
  },
  {
   "cell_type": "code",
   "execution_count": 6,
   "id": "b23f4186",
   "metadata": {},
   "outputs": [
    {
     "name": "stdout",
     "output_type": "stream",
     "text": [
      "       manufacturer_name  model_name  transmission  color  odometer_value  \\\n",
      "0                     45         764             0      8          190000   \n",
      "1                     45         764             0      1          290000   \n",
      "2                     45         519             0      7          402000   \n",
      "3                     45         609             1      1           10000   \n",
      "4                     45         665             0      0          280000   \n",
      "...                  ...         ...           ...    ...             ...   \n",
      "38526                  8          86             0      8          290000   \n",
      "38527                  8         766             1      1          321000   \n",
      "38528                  8          86             0      1          777957   \n",
      "38529                  8         766             1      0           20000   \n",
      "38530                  8        1058             0      8          297729   \n",
      "\n",
      "       year_produced  engine_fuel  engine_has_gas  engine_type  \\\n",
      "0               2010            3               0            2   \n",
      "1               2002            3               0            2   \n",
      "2               2001            3               0            2   \n",
      "3               1999            3               0            2   \n",
      "4               2001            3               0            2   \n",
      "...              ...          ...             ...          ...   \n",
      "38526           2000            3               0            2   \n",
      "38527           2004            0               0            0   \n",
      "38528           2000            3               0            2   \n",
      "38529           2001            3               0            2   \n",
      "38530           2000            3               0            2   \n",
      "\n",
      "       engine_capacity  ...  feature_1  feature_2  feature_3  feature_4  \\\n",
      "0                  2.5  ...          1          1          1          0   \n",
      "1                  3.0  ...          1          0          0          1   \n",
      "2                  2.5  ...          1          0          0          0   \n",
      "3                  3.0  ...          0          0          0          0   \n",
      "4                  2.5  ...          1          0          1          1   \n",
      "...                ...  ...        ...        ...        ...        ...   \n",
      "38526              3.5  ...          1          0          0          1   \n",
      "38527              2.2  ...          1          0          0          1   \n",
      "38528              3.5  ...          1          0          0          1   \n",
      "38529              2.0  ...          1          0          0          0   \n",
      "38530              2.4  ...          0          0          0          0   \n",
      "\n",
      "       feature_5  feature_6  feature_7  feature_8  feature_9  duration_listed  \n",
      "0              1          0          1          1          1               16  \n",
      "1              1          0          0          0          1               83  \n",
      "2              0          0          0          1          1              151  \n",
      "3              0          0          0          0          0               86  \n",
      "4              0          0          0          0          1                7  \n",
      "...          ...        ...        ...        ...        ...              ...  \n",
      "38526          1          0          0          1          1              301  \n",
      "38527          1          0          0          1          1              317  \n",
      "38528          1          0          0          1          1              369  \n",
      "38529          0          0          0          0          1              490  \n",
      "38530          0          0          0          0          1              632  \n",
      "\n",
      "[38531 rows x 30 columns]\n"
     ]
    }
   ],
   "source": [
    "print(cars)"
   ]
  }
 ],
 "metadata": {
  "kernelspec": {
   "display_name": "Python 3",
   "language": "python",
   "name": "python3"
  },
  "language_info": {
   "codemirror_mode": {
    "name": "ipython",
    "version": 3
   },
   "file_extension": ".py",
   "mimetype": "text/x-python",
   "name": "python",
   "nbconvert_exporter": "python",
   "pygments_lexer": "ipython3",
   "version": "3.8.8"
  }
 },
 "nbformat": 4,
 "nbformat_minor": 5
}
